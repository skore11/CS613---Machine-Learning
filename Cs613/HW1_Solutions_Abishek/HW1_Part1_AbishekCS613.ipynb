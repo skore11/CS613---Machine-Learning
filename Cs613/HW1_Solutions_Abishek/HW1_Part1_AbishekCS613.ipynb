{
 "cells": [
  {
   "cell_type": "code",
   "execution_count": 25,
   "metadata": {},
   "outputs": [
    {
     "name": "stdout",
     "output_type": "stream",
     "text": [
      "3.22490309931942\n",
      "-1.0\n",
      "[[-2]\n",
      " [-5]\n",
      " [-3]\n",
      " [ 0]\n",
      " [-6]\n",
      " [-2]\n",
      " [ 1]\n",
      " [ 5]\n",
      " [-1]\n",
      " [ 3]]\n",
      "[[ 1]\n",
      " [-4]\n",
      " [ 1]\n",
      " [ 3]\n",
      " [11]\n",
      " [ 5]\n",
      " [ 0]\n",
      " [-1]\n",
      " [-3]\n",
      " [ 1]]\n",
      "(10L, 1L)\n",
      "(10L,)\n",
      "[[-0.31008684  1.        ]\n",
      " [-1.24034735  1.        ]\n",
      " [-0.62017367  1.        ]\n",
      " [ 0.31008684  1.        ]\n",
      " [-1.55043418  1.        ]\n",
      " [-0.31008684  1.        ]\n",
      " [ 0.62017367  1.        ]\n",
      " [ 1.86052102  1.        ]\n",
      " [ 0.          1.        ]\n",
      " [ 1.24034735  1.        ]]\n",
      "[[-0.31008684 -1.24034735 -0.62017367  0.31008684 -1.55043418 -0.31008684\n",
      "   0.62017367  1.86052102  0.          1.24034735]\n",
      " [ 1.          1.          1.          1.          1.          1.\n",
      "   1.          1.          1.          1.        ]]\n",
      "[[0.1 0. ]\n",
      " [0.  0.1]]\n",
      "[[-14.26399448]\n",
      " [ 14.        ]]\n",
      "[[-1.42639945]\n",
      " [ 1.4       ]]\n",
      "[[-1.42639945]]\n",
      "[1.4]\n"
     ]
    },
    {
     "data": {
      "text/plain": [
       "[<matplotlib.lines.Line2D at 0xced8358>]"
      ]
     },
     "execution_count": 25,
     "metadata": {},
     "output_type": "execute_result"
    },
    {
     "data": {
      "image/png": "[encoded data removed]",
      "text/plain": [
       "<Figure size 432x288 with 1 Axes>"
      ]
     },
     "metadata": {},
     "output_type": "display_data"
    }
   ],
   "source": [
    "import numpy as np\n",
    "from sklearn.linear_model import LinearRegression as linreg\n",
    "import matplotlib.pyplot as plt\n",
    "%matplotlib inline\n",
    "plt.style.use('seaborn-whitegrid')\n",
    "\n",
    "X = [-2, -5, -3, 0, -6, -2, 1, 5, -1, 3]\n",
    "Y = [1, -4, 1, 3, 11, 5, 0, -1, -3, 1]\n",
    "\n",
    "X_mean = np.mean(W)\n",
    "X_std = np.std(W)\n",
    "print(X_std)\n",
    "print(X_mean)\n",
    "\n",
    "W = np.mat(X)\n",
    "Z = np.mat(Y)\n",
    "W = W.reshape(10,1)\n",
    "Z = Z.reshape(10,1)\n",
    "W_standard = (W - X_mean)/X_std\n",
    "print(W)\n",
    "print(Z)\n",
    "\n",
    "W_standard = np.mat(W_standard)\n",
    "W_standard = W_standard.reshape(10,1)\n",
    "print(W_standard.shape)\n",
    "\n",
    "ones = np.ones(W_standard.shape[0])\n",
    "ones_append = (np.reshape(np.asarray(ones), (ones.shape[0], 1)))\n",
    "print(ones.shape)\n",
    "W_append = np.append( W_standard, ones_append, axis = 1)\n",
    "print(W_append)\n",
    "\n",
    "W_stand_tr = np.transpose(W_append)\n",
    "print(W_stand_tr)\n",
    "\n",
    "first_dot_inv = np.linalg.inv(np.dot(W_stand_tr , W_append))\n",
    "print(first_dot_inv)\n",
    "second_dot = np.dot(W_stand_tr, Z)\n",
    "print(second_dot)\n",
    "third_dot = np.dot(first_dot_inv, second_dot)\n",
    "print(third_dot)\n",
    "\n",
    "verify = linreg().fit(W_standard, Z)\n",
    "print(verify.coef_)\n",
    "print(verify.intercept_)\n",
    "\n",
    "x = np.linspace(-40, 40, 1000)\n",
    "y = 4*((x-1)**3)\n",
    "plt.plot(x,y,'o',color='black')"
   ]
  }
 ],
 "metadata": {
  "kernelspec": {
   "display_name": "Python 2",
   "language": "python",
   "name": "python2"
  },
  "language_info": {
   "codemirror_mode": {
    "name": "ipython",
    "version": 2
   },
   "file_extension": ".py",
   "mimetype": "text/x-python",
   "name": "python",
   "nbconvert_exporter": "python",
   "pygments_lexer": "ipython2",
   "version": "2.7.16"
  }
 },
 "nbformat": 4,
 "nbformat_minor": 2
}
