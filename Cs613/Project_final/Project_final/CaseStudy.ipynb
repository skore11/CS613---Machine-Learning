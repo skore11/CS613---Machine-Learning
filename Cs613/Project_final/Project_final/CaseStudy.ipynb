{
 "cells": [
  {
   "cell_type": "code",
   "execution_count": 1,
   "metadata": {},
   "outputs": [],
   "source": [
    "import json\n",
    "import ast\n",
    "import numpy as np\n",
    "from IPython.display import Image\n",
    "import pandas as pd\n",
    "import matplotlib.pyplot as plt\n",
    "import random\n",
    "from random import shuffle\n",
    "import numpy as np\n",
    "from sklearn.model_selection import train_test_split\n",
    "from sklearn.neighbors import KNeighborsClassifier\n",
    "from sklearn.tree import DecisionTreeClassifier \n",
    "from sklearn.metrics import confusion_matrix\n",
    "from sklearn.impute import SimpleImputer\n",
    "from sklearn.svm import SVC \n",
    "from sklearn.naive_bayes import GaussianNB"
   ]
  },
  {
   "cell_type": "code",
   "execution_count": 2,
   "metadata": {},
   "outputs": [],
   "source": [
    "data = pd.read_excel(\"Joint_Data.xlsx\", sheet_name = 'Sheet')\n",
    "data_list = np.asarray(data.values.tolist())"
   ]
  },
  {
   "cell_type": "code",
   "execution_count": 3,
   "metadata": {},
   "outputs": [],
   "source": [
    "np.random.shuffle(data_list)\n",
    "X = data_list[:,:32]\n",
    "Y = data_list[:,32]"
   ]
  },
  {
   "cell_type": "code",
   "execution_count": 4,
   "metadata": {},
   "outputs": [],
   "source": [
    "X_train = X[:10000,:].astype(float)\n",
    "Y_train = Y[:10000]\n",
    "X_test = X[10000:,:].astype(float)\n",
    "Y_test = Y[10000:]"
   ]
  },
  {
   "cell_type": "code",
   "execution_count": 5,
   "metadata": {},
   "outputs": [],
   "source": [
    "imp_mean = SimpleImputer(missing_values=np.nan, strategy='mean')\n",
    "imp_mean.fit(X_train)\n",
    "X_train_1 = X_train.copy()\n",
    "X_test_1 = X_test.copy()\n",
    "X_train_1 = imp_mean.transform(X_train_1)\n",
    "X_test_1 = imp_mean.transform(X_test_1)"
   ]
  },
  {
   "cell_type": "code",
   "execution_count": 20,
   "metadata": {},
   "outputs": [
    {
     "name": "stdout",
     "output_type": "stream",
     "text": [
      "0.23997134670487105\n",
      "[[ 4  0  0  2  3  2  0  1  0  1  6  0  0  0 10  0  0  3  3  6]\n",
      " [ 2 61  1  7  9  6  0 12  6  3 11  0  1  0 14  2  0  0 14  5]\n",
      " [ 0  2  1  1  2  1  0  1  0  0  1  0  0  0  6  0  0  1  0  0]\n",
      " [ 3  2  0  9  7  3  0  3  1  3 11  0  1  0 12  0  0  0  3  2]\n",
      " [ 2  3  0  9 35  7  0  9  2  1 33  3  0  1 14  0  0  1  7  6]\n",
      " [ 2 12  0  4 11 23  0  4 10  4 27  0  0  0 14  0  0  0  5  3]\n",
      " [ 0  1  0  0  0  1  0  0  0  1  2  0  0  0  0  0  0  0  2  0]\n",
      " [ 3  9  0  3 11  6  0 25  0  2 24  0  0  0 17  0  0  1  4  8]\n",
      " [ 1  3  0  2  4  4  0  1  9  4 16  1  0  0  8  0  0  1  3  1]\n",
      " [ 1  3  0  1  3  3  0  0  2  9  7  0  0  0  3  0  0  1  0  1]\n",
      " [ 3 13  1 13 29 18  0 14  6  5 48  0  0  0 24  0  0  1 10  4]\n",
      " [ 0  0  0  3  0  0  0  0  2  0  2  1  0  0  0  0  0  0  0  0]\n",
      " [ 1  1  1  1  0  3  0  3  0  0  4  0  1  0  6  0  0  0  1  0]\n",
      " [ 0  1  0  0  0  1  0  0  1  1  6  0  0  3  0  0  0  0  0  0]\n",
      " [10 28  4  8 16 16  0 17  0  4 25  0  1  1 70  0  0  2 13 12]\n",
      " [ 0  0  0  0  0  0  0  0  1  0  0  0  0  0  3  0  0  2  0  0]\n",
      " [ 0  1  0  0  0  0  0  0  0  0  0  0  0  0  0  0  0  0  0  0]\n",
      " [ 1  2  0  2  4  4  0  4  0  0  7  0  0  0 12  0  0  1  1  2]\n",
      " [ 1 10  1  5  3  4  0  6  1  1  9  1  0  0 24  0  0  1 21  5]\n",
      " [ 0  5  2  4  1  2  0  1  1  0 12  0  0  0 15  0  0  0  5 14]]\n"
     ]
    }
   ],
   "source": [
    "dtree_model = DecisionTreeClassifier(max_depth = 15).fit(X_train_1, Y_train) \n",
    "dtree_predictions = dtree_model.predict(X_test_1) \n",
    "accuracy = dtree_model.score(X_test_1, Y_test)\n",
    "print(accuracy)\n",
    "cm = confusion_matrix(Y_test, dtree_predictions)\n",
    "print(cm)"
   ]
  },
  {
   "cell_type": "code",
   "execution_count": 11,
   "metadata": {},
   "outputs": [
    {
     "name": "stderr",
     "output_type": "stream",
     "text": [
      "/home/prateek/anaconda3/lib/python3.7/site-packages/sklearn/svm/base.py:193: FutureWarning: The default value of gamma will change from 'auto' to 'scale' in version 0.22 to account better for unscaled features. Set gamma explicitly to 'auto' or 'scale' to avoid this warning.\n",
      "  \"avoid this warning.\", FutureWarning)\n"
     ]
    },
    {
     "name": "stdout",
     "output_type": "stream",
     "text": [
      "0.16260744985673353\n"
     ]
    }
   ],
   "source": [
    "svm_model_linear = SVC().fit(X_train_1, Y_train) \n",
    "#svm_predictions = svm_model_linear.predict(X_test_1) \n",
    "accuracy = svm_model_linear.score(X_test_1, Y_test) \n",
    "print(accuracy)"
   ]
  },
  {
   "cell_type": "code",
   "execution_count": 12,
   "metadata": {},
   "outputs": [
    {
     "name": "stdout",
     "output_type": "stream",
     "text": [
      "0.29441260744985676\n"
     ]
    }
   ],
   "source": [
    "knn = KNeighborsClassifier(n_neighbors = 9).fit(X_train_1, Y_train) \n",
    "accuracy = knn.score(X_test_1, Y_test) \n",
    "print(accuracy) "
   ]
  },
  {
   "cell_type": "code",
   "execution_count": 16,
   "metadata": {},
   "outputs": [
    {
     "name": "stdout",
     "output_type": "stream",
     "text": [
      "[[ 4  5  1  2  2  0  0  5  0  0  3  0  0  0 11  0  0  0  2  6]\n",
      " [ 4 79  2  4 12  5  0  7  4  2  6  0  1  0 20  0  0  0  5  3]\n",
      " [ 0  2  2  0  0  1  0  1  0  1  2  0  0  0  6  0  0  0  0  1]\n",
      " [ 0  3  4 10  8  5  0  9  0  3 10  0  0  0  6  0  0  0  1  1]\n",
      " [ 1  8  3  8 51  6  0 12  6  4 19  1  1  0 10  0  0  0  1  2]\n",
      " [ 5  6  1  6 18 28  0 11  5  2 24  0  0  0  9  0  0  1  0  3]\n",
      " [ 1  0  0  0  2  2  0  0  0  0  0  0  0  0  0  0  0  0  2  0]\n",
      " [ 6  8  2  6 11  4  0 28  1  1 18  0  0  0 23  0  0  0  2  3]\n",
      " [ 0  4  0  5  9  3  0  1 13  3 14  0  0  0  5  0  0  0  0  1]\n",
      " [ 0  1  1  2  7  2  0  0  1 13  4  0  0  1  2  0  0  0  0  0]\n",
      " [ 4 21  3  3 25 14  0 10  5  4 62  0  1  1 26  0  0  2  3  5]\n",
      " [ 0  2  0  3  0  0  0  0  1  0  2  0  0  0  0  0  0  0  0  0]\n",
      " [ 1  0  2  0  2  0  0  4  0  0  2  0  3  0  5  0  0  2  0  1]\n",
      " [ 0  1  0  0  3  1  0  0  0  0  1  0  0  7  0  0  0  0  0  0]\n",
      " [15 18  6 12 15  9  1 22  1  3 20  1  1  1 84  0  0  0 10  8]\n",
      " [ 0  0  0  0  1  0  0  0  0  0  3  0  0  0  1  1  0  0  0  0]\n",
      " [ 0  1  0  0  0  0  0  0  0  0  0  0  0  0  0  0  0  0  0  0]\n",
      " [ 2  4  1  2  4  4  0  4  1  0  7  0  0  0 10  0  0  1  0  0]\n",
      " [ 3 11  0  2  3  3  0  8  1  1 11  0  0  0 25  0  0  0 19  6]\n",
      " [ 4  5  4  2  4  1  0  4  1  2  6  0  1  0 19  0  0  0  3  6]]\n"
     ]
    }
   ],
   "source": [
    "knn_predictions = knn.predict(X_test_1)  \n",
    "cm = confusion_matrix(Y_test, knn_predictions) \n",
    "print(cm)"
   ]
  },
  {
   "cell_type": "code",
   "execution_count": 13,
   "metadata": {},
   "outputs": [],
   "source": [
    "gnb = GaussianNB().fit(X_train_1, Y_train) \n",
    "gnb_predictions = gnb.predict(X_test_1) "
   ]
  },
  {
   "cell_type": "code",
   "execution_count": 14,
   "metadata": {},
   "outputs": [
    {
     "name": "stdout",
     "output_type": "stream",
     "text": [
      "0.07521489971346705\n"
     ]
    }
   ],
   "source": [
    "accuracy = gnb.score(X_test_1, Y_test) \n",
    "print (accuracy) "
   ]
  }
 ],
 "metadata": {
  "kernelspec": {
   "display_name": "Python 3",
   "language": "python",
   "name": "python3"
  },
  "language_info": {
   "codemirror_mode": {
    "name": "ipython",
    "version": 3
   },
   "file_extension": ".py",
   "mimetype": "text/x-python",
   "name": "python",
   "nbconvert_exporter": "python",
   "pygments_lexer": "ipython3",
   "version": "3.7.4"
  }
 },
 "nbformat": 4,
 "nbformat_minor": 2
}
