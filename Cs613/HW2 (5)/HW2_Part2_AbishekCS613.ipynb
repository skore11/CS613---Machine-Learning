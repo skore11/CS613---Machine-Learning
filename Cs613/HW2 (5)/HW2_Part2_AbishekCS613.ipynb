{
 "cells": [
  {
   "cell_type": "code",
   "execution_count": 2,
   "metadata": {},
   "outputs": [],
   "source": [
    "import pandas as pd\n",
    "import numpy as np\n",
    "import random\n",
    "from random import shuffle\n",
    "from decimal import Decimal\n",
    "from scipy.special import expit\n",
    "from sklearn.linear_model import LinearRegression\n",
    "from sklearn.linear_model import LogisticRegression\n",
    "from sklearn.model_selection import KFold, train_test_split\n",
    "from sklearn import datasets\n",
    "from sklearn.datasets import load_iris\n",
    "import matplotlib.pyplot as plt\n",
    "%matplotlib inline\n",
    "plt.style.use('seaborn-whitegrid')"
   ]
  },
  {
   "cell_type": "code",
   "execution_count": 71,
   "metadata": {},
   "outputs": [
    {
     "name": "stdout",
     "output_type": "stream",
     "text": [
      "(100, 2)\n",
      "(100, 1)\n"
     ]
    }
   ],
   "source": [
    "iris = datasets.load_iris()\n",
    "X = iris.data[:, :2]\n",
    "\n",
    "y = (iris.target!=0)*1\n",
    "\n",
    "y_target = np.reshape(np.asarray(y), (np.asarray(y).shape[0], 1))\n",
    "#print(y_target)\n",
    "X_temp = np.append(X, y_target, axis=1)\n",
    "np.random.seed(0)\n",
    "np.random.shuffle(X_temp)\n",
    "X_train, X_test, y_train, y_test = train_test_split(X_temp[:,:X_temp.shape[1]-1],X_temp[:,X_temp.shape[1]-1], test_size=0.33)\n",
    "X=X_train\n",
    "y=np.reshape(np.asarray(y_train), (np.asarray(y_train).shape[0], 1))\n",
    "\n",
    "print(X.shape)\n",
    "print(y.shape)"
   ]
  },
  {
   "cell_type": "code",
   "execution_count": 6,
   "metadata": {
    "scrolled": true
   },
   "outputs": [
    {
     "name": "stdout",
     "output_type": "stream",
     "text": [
      "[[ 0.74771667 -0.31318697]\n",
      " [ 0.62846362  0.59460134]\n",
      " [ 0.62846362 -1.22097527]\n",
      " [-0.32556085 -1.67486942]\n",
      " [ 0.62846362 -0.54013404]\n",
      " [ 0.74771667 -0.54013404]\n",
      " [ 0.03219833 -0.76708112]\n",
      " [ 0.3899575  -0.08623989]\n",
      " [-0.20630779 -0.08623989]\n",
      " [-0.08705473  3.09101918]\n",
      " [ 1.10547585  0.14070719]\n",
      " [-0.92182614 -2.35571065]\n",
      " [-0.08705473 -0.99402819]\n",
      " [ 1.22472891  0.36765426]\n",
      " [ 0.62846362 -0.31318697]\n",
      " [ 0.03219833  2.18323087]\n",
      " [-0.08705473 -1.22097527]\n",
      " [-0.20630779 -1.22097527]\n",
      " [-0.92182614 -0.08623989]\n",
      " [-0.80257308  1.04849549]\n",
      " [ 0.62846362  0.82154842]\n",
      " [ 2.29800643 -0.99402819]\n",
      " [ 0.3899575  -0.54013404]\n",
      " [ 0.03219833 -0.99402819]\n",
      " [-0.92182614  1.27544257]\n",
      " [-0.44481391  1.9562838 ]\n",
      " [-0.92182614  0.82154842]\n",
      " [-0.08705473 -0.31318697]\n",
      " [-0.20630779 -0.54013404]\n",
      " [ 0.86696973 -0.08623989]\n",
      " [ 2.29800643 -0.08623989]\n",
      " [-0.32556085 -1.44792235]\n",
      " [-1.63734449 -0.31318697]\n",
      " [ 0.50921056 -0.31318697]\n",
      " [-0.32556085  2.63712503]\n",
      " [-0.92182614 -1.67486942]\n",
      " [ 0.27070444 -0.76708112]\n",
      " [-0.80257308  0.59460134]\n",
      " [ 0.3899575  -0.99402819]\n",
      " [ 1.34398196  0.36765426]\n",
      " [ 0.03219833 -0.76708112]\n",
      " [-0.08705473 -0.54013404]\n",
      " [-0.92182614  1.04849549]\n",
      " [-0.80257308  1.72933672]\n",
      " [-1.75659754 -0.08623989]\n",
      " [-0.80257308  1.50238964]\n",
      " [-0.20630779 -0.08623989]\n",
      " [-0.68332002 -0.76708112]\n",
      " [ 0.15145138 -0.08623989]\n",
      " [ 1.8209942  -0.31318697]\n",
      " [-1.16033225 -0.08623989]\n",
      " [-1.0410792   0.14070719]\n",
      " [ 2.53651254  1.72933672]\n",
      " [-1.16033225  0.82154842]\n",
      " [-0.44481391  1.50238964]\n",
      " [ 0.03219833 -0.76708112]\n",
      " [ 0.27070444 -1.9018165 ]\n",
      " [-1.0410792  -0.08623989]\n",
      " [ 0.15145138 -0.08623989]\n",
      " [ 0.74771667  0.36765426]\n",
      " [-1.0410792  -1.44792235]\n",
      " [ 0.62846362 -0.76708112]\n",
      " [ 1.22472891 -0.08623989]\n",
      " [-1.16033225 -0.08623989]\n",
      " [-1.27958531  0.36765426]\n",
      " [ 0.50921056 -1.9018165 ]\n",
      " [ 0.50921056 -0.54013404]\n",
      " [-1.0410792  -1.22097527]\n",
      " [-0.08705473 -0.08623989]\n",
      " [ 0.86696973 -0.54013404]\n",
      " [-0.44481391 -0.08623989]\n",
      " [ 0.86696973 -0.08623989]\n",
      " [ 0.74771667 -0.76708112]\n",
      " [ 0.62846362 -1.22097527]\n",
      " [-0.92182614  0.59460134]\n",
      " [-1.27958531  0.36765426]\n",
      " [-1.63734449 -0.08623989]\n",
      " [-0.68332002  1.04849549]\n",
      " [ 2.17875337 -0.08623989]\n",
      " [ 1.58248808 -0.08623989]\n",
      " [ 1.10547585  0.14070719]\n",
      " [-0.68332002  2.41017795]\n",
      " [-0.80257308  0.82154842]\n",
      " [-1.39883837  1.27544257]\n",
      " [-0.92182614  0.36765426]\n",
      " [ 0.27070444 -0.31318697]\n",
      " [-1.39883837  0.14070719]\n",
      " [ 0.98622279 -0.08623989]\n",
      " [ 2.29800643 -0.54013404]\n",
      " [ 0.74771667 -0.54013404]\n",
      " [ 0.98622279 -0.31318697]\n",
      " [-0.92182614  0.82154842]\n",
      " [-1.63734449  0.36765426]\n",
      " [ 0.3899575  -0.31318697]\n",
      " [-1.16033225  0.14070719]\n",
      " [ 1.70174114  0.36765426]\n",
      " [-1.39883837  0.36765426]\n",
      " [ 1.34398196  0.14070719]\n",
      " [-0.44481391  1.9562838 ]\n",
      " [-0.44481391  0.82154842]]\n"
     ]
    }
   ],
   "source": [
    "X_mean = X.mean(axis=0)\n",
    "#print(X_mean)\n",
    "X_std = X.std(axis=0)\n",
    "#print(X_std)\n",
    "#print(X.T)\n",
    "X_standard = np.asarray([(X.T[i]-X_mean[i])/X_std[i] for i in range(X.T.shape[0])]).T\n",
    "print(X_standard)"
   ]
  },
  {
   "cell_type": "code",
   "execution_count": 8,
   "metadata": {
    "collapsed": true
   },
   "outputs": [
    {
     "name": "stdout",
     "output_type": "stream",
     "text": [
      "[[ 0.74771667 -0.31318697  1.        ]\n",
      " [ 0.62846362  0.59460134  1.        ]\n",
      " [ 0.62846362 -1.22097527  1.        ]\n",
      " [-0.32556085 -1.67486942  1.        ]\n",
      " [ 0.62846362 -0.54013404  1.        ]\n",
      " [ 0.74771667 -0.54013404  1.        ]\n",
      " [ 0.03219833 -0.76708112  1.        ]\n",
      " [ 0.3899575  -0.08623989  1.        ]\n",
      " [-0.20630779 -0.08623989  1.        ]\n",
      " [-0.08705473  3.09101918  1.        ]\n",
      " [ 1.10547585  0.14070719  1.        ]\n",
      " [-0.92182614 -2.35571065  1.        ]\n",
      " [-0.08705473 -0.99402819  1.        ]\n",
      " [ 1.22472891  0.36765426  1.        ]\n",
      " [ 0.62846362 -0.31318697  1.        ]\n",
      " [ 0.03219833  2.18323087  1.        ]\n",
      " [-0.08705473 -1.22097527  1.        ]\n",
      " [-0.20630779 -1.22097527  1.        ]\n",
      " [-0.92182614 -0.08623989  1.        ]\n",
      " [-0.80257308  1.04849549  1.        ]\n",
      " [ 0.62846362  0.82154842  1.        ]\n",
      " [ 2.29800643 -0.99402819  1.        ]\n",
      " [ 0.3899575  -0.54013404  1.        ]\n",
      " [ 0.03219833 -0.99402819  1.        ]\n",
      " [-0.92182614  1.27544257  1.        ]\n",
      " [-0.44481391  1.9562838   1.        ]\n",
      " [-0.92182614  0.82154842  1.        ]\n",
      " [-0.08705473 -0.31318697  1.        ]\n",
      " [-0.20630779 -0.54013404  1.        ]\n",
      " [ 0.86696973 -0.08623989  1.        ]\n",
      " [ 2.29800643 -0.08623989  1.        ]\n",
      " [-0.32556085 -1.44792235  1.        ]\n",
      " [-1.63734449 -0.31318697  1.        ]\n",
      " [ 0.50921056 -0.31318697  1.        ]\n",
      " [-0.32556085  2.63712503  1.        ]\n",
      " [-0.92182614 -1.67486942  1.        ]\n",
      " [ 0.27070444 -0.76708112  1.        ]\n",
      " [-0.80257308  0.59460134  1.        ]\n",
      " [ 0.3899575  -0.99402819  1.        ]\n",
      " [ 1.34398196  0.36765426  1.        ]\n",
      " [ 0.03219833 -0.76708112  1.        ]\n",
      " [-0.08705473 -0.54013404  1.        ]\n",
      " [-0.92182614  1.04849549  1.        ]\n",
      " [-0.80257308  1.72933672  1.        ]\n",
      " [-1.75659754 -0.08623989  1.        ]\n",
      " [-0.80257308  1.50238964  1.        ]\n",
      " [-0.20630779 -0.08623989  1.        ]\n",
      " [-0.68332002 -0.76708112  1.        ]\n",
      " [ 0.15145138 -0.08623989  1.        ]\n",
      " [ 1.8209942  -0.31318697  1.        ]\n",
      " [-1.16033225 -0.08623989  1.        ]\n",
      " [-1.0410792   0.14070719  1.        ]\n",
      " [ 2.53651254  1.72933672  1.        ]\n",
      " [-1.16033225  0.82154842  1.        ]\n",
      " [-0.44481391  1.50238964  1.        ]\n",
      " [ 0.03219833 -0.76708112  1.        ]\n",
      " [ 0.27070444 -1.9018165   1.        ]\n",
      " [-1.0410792  -0.08623989  1.        ]\n",
      " [ 0.15145138 -0.08623989  1.        ]\n",
      " [ 0.74771667  0.36765426  1.        ]\n",
      " [-1.0410792  -1.44792235  1.        ]\n",
      " [ 0.62846362 -0.76708112  1.        ]\n",
      " [ 1.22472891 -0.08623989  1.        ]\n",
      " [-1.16033225 -0.08623989  1.        ]\n",
      " [-1.27958531  0.36765426  1.        ]\n",
      " [ 0.50921056 -1.9018165   1.        ]\n",
      " [ 0.50921056 -0.54013404  1.        ]\n",
      " [-1.0410792  -1.22097527  1.        ]\n",
      " [-0.08705473 -0.08623989  1.        ]\n",
      " [ 0.86696973 -0.54013404  1.        ]\n",
      " [-0.44481391 -0.08623989  1.        ]\n",
      " [ 0.86696973 -0.08623989  1.        ]\n",
      " [ 0.74771667 -0.76708112  1.        ]\n",
      " [ 0.62846362 -1.22097527  1.        ]\n",
      " [-0.92182614  0.59460134  1.        ]\n",
      " [-1.27958531  0.36765426  1.        ]\n",
      " [-1.63734449 -0.08623989  1.        ]\n",
      " [-0.68332002  1.04849549  1.        ]\n",
      " [ 2.17875337 -0.08623989  1.        ]\n",
      " [ 1.58248808 -0.08623989  1.        ]\n",
      " [ 1.10547585  0.14070719  1.        ]\n",
      " [-0.68332002  2.41017795  1.        ]\n",
      " [-0.80257308  0.82154842  1.        ]\n",
      " [-1.39883837  1.27544257  1.        ]\n",
      " [-0.92182614  0.36765426  1.        ]\n",
      " [ 0.27070444 -0.31318697  1.        ]\n",
      " [-1.39883837  0.14070719  1.        ]\n",
      " [ 0.98622279 -0.08623989  1.        ]\n",
      " [ 2.29800643 -0.54013404  1.        ]\n",
      " [ 0.74771667 -0.54013404  1.        ]\n",
      " [ 0.98622279 -0.31318697  1.        ]\n",
      " [-0.92182614  0.82154842  1.        ]\n",
      " [-1.63734449  0.36765426  1.        ]\n",
      " [ 0.3899575  -0.31318697  1.        ]\n",
      " [-1.16033225  0.14070719  1.        ]\n",
      " [ 1.70174114  0.36765426  1.        ]\n",
      " [-1.39883837  0.36765426  1.        ]\n",
      " [ 1.34398196  0.14070719  1.        ]\n",
      " [-0.44481391  1.9562838   1.        ]\n",
      " [-0.44481391  0.82154842  1.        ]]\n"
     ]
    }
   ],
   "source": [
    "ones = np.ones((np.asarray(X_standard).shape[0],1))\n",
    "X_standard= np.append(X_standard , ones, axis=1)\n",
    "print(X_standard)"
   ]
  },
  {
   "cell_type": "code",
   "execution_count": 14,
   "metadata": {},
   "outputs": [
    {
     "name": "stdout",
     "output_type": "stream",
     "text": [
      "[[-0.472572  ]\n",
      " [ 0.11178489]\n",
      " [ 0.70894668]]\n",
      "(100, 3)\n"
     ]
    }
   ],
   "source": [
    "theta = np.reshape(np.asarray([random.uniform(-1, 1) for i in range(X_standard.shape[1])]), (X_standard.shape[1],1))\n",
    "print(theta)\n",
    "print(X_standard.shape)"
   ]
  },
  {
   "cell_type": "code",
   "execution_count": 72,
   "metadata": {},
   "outputs": [
    {
     "name": "stdout",
     "output_type": "stream",
     "text": [
      "[[ 6.43151376]\n",
      " [-5.11081998]\n",
      " [ 3.6705782 ]]\n",
      "[[ 6.32323573]\n",
      " [-5.03404662]\n",
      " [ 3.60225275]]\n"
     ]
    }
   ],
   "source": [
    "\n",
    "eta = 0.01\n",
    "l_SE = []\n",
    "for i in range(10000):\n",
    "    y_decs = 1/(1+ np.exp(-(X_standard.dot(theta))))\n",
    "    #print(y_decs)\n",
    "    #print(y_target.shape)\n",
    "    \n",
    "    loss = -(y.T)*(np.log(y_decs)) + (1-y).T*(np.log(1-y_decs))\n",
    "    #print(loss)\n",
    "    loss_total=np.sum(loss,axis=0)\n",
    "    #print(loss_total)\n",
    "    #print(y_target.shape)\n",
    "    #print(y_decs.shape)\n",
    "    #y_dist =np.asarray([(float(y_target[i] - y_decs[i])) for i in range(y_target.shape[0])])\n",
    "    y_dist = (y - y_decs)\n",
    "    \n",
    "    #print(y_dist)\n",
    "    #print(y_sum)\n",
    "    y_loss = X_standard.T.dot(y_dist)\n",
    "    #print(y_loss.shape)\n",
    "    #temp = (y_loss/len(y_target))*eta\n",
    "    #print(temp.shape)\n",
    "    #plt.plot(i, y_dist.T, 'bo')\n",
    "    if y_loss.any()<=(2**(-23)):\n",
    "        break\n",
    "    #y_loss_new = ((np.sum(y_loss,axis=0))/len(y_target))*eta\n",
    "    y_loss_new = ((y_loss)/y.shape[0])*eta\n",
    "    #print(y_sum)\n",
    "    #print((y_sum*eta)/y_target.shape[0])\n",
    "    #temp = (eta/len(y_target))*(y_sum)\n",
    "    theta = theta + y_loss_new\n",
    "    #plt.plot(i, loss_total, 'rs')\n",
    "    l_SE.append(theta)\n",
    "    #print(theta)\n",
    "print(theta)\n",
    "print(np.mean(l_SE, axis=0))\n"
   ]
  },
  {
   "cell_type": "code",
   "execution_count": 47,
   "metadata": {},
   "outputs": [
    {
     "name": "stdout",
     "output_type": "stream",
     "text": [
      "[[ 36.73841297 -21.65442905  11.67361396]]\n",
      "(100, 100)\n"
     ]
    },
    {
     "name": "stderr",
     "output_type": "stream",
     "text": [
      "C:\\Users\\siciit\\Anaconda3\\lib\\site-packages\\sklearn\\utils\\validation.py:724: DataConversionWarning: A column-vector y was passed when a 1d array was expected. Please change the shape of y to (n_samples, ), for example using ravel().\n",
      "  y = column_or_1d(y, warn=True)\n"
     ]
    }
   ],
   "source": [
    "\n",
    "\n",
    "lgr = LogisticRegression(penalty = 'none', solver = 'lbfgs', max_iter=10000)\n",
    "lgr.fit(X_standard,y)\n",
    "\n",
    "\n",
    "print(lgr.coef_)\n",
    "#print(lgr.intercept_)\n",
    "\n",
    "print(loss.shape)\n",
    "\n"
   ]
  },
  {
   "cell_type": "code",
   "execution_count": 28,
   "metadata": {},
   "outputs": [
    {
     "data": {
      "text/plain": [
       "[<matplotlib.lines.Line2D at 0x2050e1d9b48>]"
      ]
     },
     "execution_count": 28,
     "metadata": {},
     "output_type": "execute_result"
    },
    {
     "data": {
      "image/png": "[encoded data removed]",
      "text/plain": [
       "<Figure size 432x288 with 1 Axes>"
      ]
     },
     "metadata": {
      "needs_background": "light"
     },
     "output_type": "display_data"
    }
   ],
   "source": [
    "plt.plot(X[:,0],y,'bo')\n",
    "plt.plot(X[:,1],y,'rs')\n"
   ]
  },
  {
   "cell_type": "code",
   "execution_count": 34,
   "metadata": {},
   "outputs": [
    {
     "data": {
      "image/png": "[encoded data removed]",
      "text/plain": [
       "<Figure size 432x288 with 1 Axes>"
      ]
     },
     "metadata": {
      "needs_background": "light"
     },
     "output_type": "display_data"
    }
   ],
   "source": [
    "x_points = np.linspace(-0.7, 0.3, 20)\n",
    "y_log_gd = x_points*theta[0]+theta[2] \n",
    "y_log_gd[y_log_gd>1]=1\n",
    "y_log_gd[y_log_gd<0]=0\n",
    "plt.plot(X_standard[:,0], y, 'bo')\n",
    "plt.plot(x_points, y_log_gd, color= 'black')\n",
    "plt.show()"
   ]
  },
  {
   "cell_type": "code",
   "execution_count": 63,
   "metadata": {},
   "outputs": [
    {
     "data": {
      "image/png": "[encoded data removed]",
      "text/plain": [
       "<Figure size 432x288 with 1 Axes>"
      ]
     },
     "metadata": {
      "needs_background": "light"
     },
     "output_type": "display_data"
    }
   ],
   "source": [
    "x_points = np.linspace(-0.7, 0.3, 20)\n",
    "y_log_gd_1 = x_points*theta[0]+theta[2] \n",
    "y_log_gd_1[y_log_gd_1>1]=1\n",
    "y_log_gd_1[y_log_gd_1<0]=0\n",
    "plt.plot(X_standard[:,1], y, 'rs')\n",
    "plt.plot(x_points, y_log_gd_1, color= 'black')\n",
    "plt.show()\n"
   ]
  },
  {
   "cell_type": "code",
   "execution_count": 65,
   "metadata": {},
   "outputs": [
    {
     "data": {
      "image/png": "[encoded data removed]",
      "text/plain": [
       "<Figure size 432x288 with 1 Axes>"
      ]
     },
     "metadata": {
      "needs_background": "light"
     },
     "output_type": "display_data"
    }
   ],
   "source": [
    "x_points = np.linspace(-0.7, 0.3, 30)\n",
    "y_log_lr = x_points*lgr.coef_[0][0]+lgr.intercept_[0]\n",
    "y_log_lr[y_log_lr>1]=1\n",
    "y_log_lr[y_log_lr<0]=0\n",
    "plt.scatter(X_standard[:,0], y)\n",
    "plt.plot(X_standard[:,1], y, 'rs')\n",
    "plt.plot(x_points, y_log_lr,)\n",
    "plt.show()"
   ]
  },
  {
   "cell_type": "code",
   "execution_count": 57,
   "metadata": {},
   "outputs": [
    {
     "name": "stdout",
     "output_type": "stream",
     "text": [
      "(1, 3)\n",
      "[[1. 1. 1.]\n",
      " [1. 1. 1.]\n",
      " [1. 1. 1.]\n",
      " [1. 1. 1.]\n",
      " [1. 1. 1.]\n",
      " [0. 0. 0.]\n",
      " [0. 0. 0.]\n",
      " [1. 1. 1.]\n",
      " [0. 0. 0.]\n",
      " [1. 1. 1.]\n",
      " [1. 1. 1.]\n",
      " [1. 1. 1.]\n",
      " [0. 1. 0.]\n",
      " [1. 1. 1.]\n",
      " [0. 0. 0.]\n",
      " [1. 1. 1.]\n",
      " [0. 0. 0.]\n",
      " [1. 1. 1.]\n",
      " [1. 1. 1.]\n",
      " [0. 0. 0.]\n",
      " [1. 0. 0.]\n",
      " [0. 0. 0.]\n",
      " [1. 1. 1.]\n",
      " [1. 1. 1.]\n",
      " [1. 1. 1.]\n",
      " [1. 1. 1.]\n",
      " [1. 1. 1.]\n",
      " [0. 0. 0.]\n",
      " [1. 1. 1.]\n",
      " [0. 0. 0.]\n",
      " [1. 1. 1.]\n",
      " [1. 1. 1.]\n",
      " [0. 0. 0.]\n",
      " [1. 1. 1.]\n",
      " [1. 1. 1.]\n",
      " [1. 1. 1.]\n",
      " [1. 1. 1.]\n",
      " [1. 1. 1.]\n",
      " [1. 1. 1.]\n",
      " [1. 1. 1.]\n",
      " [1. 1. 1.]\n",
      " [1. 1. 1.]\n",
      " [0. 0. 0.]\n",
      " [1. 1. 1.]\n",
      " [1. 1. 1.]\n",
      " [1. 1. 1.]\n",
      " [0. 0. 0.]\n",
      " [1. 1. 1.]\n",
      " [1. 1. 1.]\n",
      " [0. 0. 0.]]\n"
     ]
    }
   ],
   "source": [
    "X_test_standard = ((X_test-X_test.mean(axis=0))/X_test.std(axis=0))\n",
    "ones_matrix_test = np.ones((np.asarray(X_test_standard).shape[0],1))\n",
    "X_test_standard = np.append(X_test_standard , ones_matrix_test, axis=1)\n",
    "#print(X_test_standard)\n",
    "y_test = np.reshape(np.asarray(y_test), (np.asarray(y_test).shape[0], 1))\n",
    "y_preds = X_test_standard.dot(theta)\n",
    "y_preds[y_preds>0]=1\n",
    "y_preds[y_preds<0]=0\n",
    "#print(y_preds)\n",
    "theta_lr = np.asarray(lgr.coef_)\n",
    "print(theta_lr.shape)\n",
    "y_preds_lr = X_test_standard.dot(theta_lr.T)\n",
    "y_preds_lr[y_preds_lr>0]=1\n",
    "y_preds_lr[y_preds_lr<0]=0\n",
    "y_check = np.concatenate((y_test, y_preds, y_preds_lr), axis=1)\n",
    "print(y_check)"
   ]
  },
  {
   "cell_type": "code",
   "execution_count": null,
   "metadata": {},
   "outputs": [],
   "source": []
  },
  {
   "cell_type": "code",
   "execution_count": null,
   "metadata": {},
   "outputs": [],
   "source": []
  }
 ],
 "metadata": {
  "kernelspec": {
   "display_name": "Python 3",
   "language": "python",
   "name": "python3"
  },
  "language_info": {
   "codemirror_mode": {
    "name": "ipython",
    "version": 3
   },
   "file_extension": ".py",
   "mimetype": "text/x-python",
   "name": "python",
   "nbconvert_exporter": "python",
   "pygments_lexer": "ipython3",
   "version": "3.7.4"
  }
 },
 "nbformat": 4,
 "nbformat_minor": 2
}
